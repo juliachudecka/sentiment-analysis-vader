{
 "cells": [
  {
   "cell_type": "markdown",
   "id": "5148965b",
   "metadata": {},
   "source": [
    "## 1. Import bibliotek"
   ]
  },
  {
   "cell_type": "code",
   "execution_count": 4,
   "id": "a324f73c",
   "metadata": {},
   "outputs": [
    {
     "name": "stderr",
     "output_type": "stream",
     "text": [
      "[nltk_data] Downloading package vader_lexicon to\n",
      "[nltk_data]     C:\\Users\\Julia.ch\\AppData\\Roaming\\nltk_data...\n",
      "[nltk_data]   Package vader_lexicon is already up-to-date!\n"
     ]
    },
    {
     "data": {
      "text/plain": [
       "True"
      ]
     },
     "execution_count": 4,
     "metadata": {},
     "output_type": "execute_result"
    }
   ],
   "source": [
    "# 1. Import potrzebnych bibliotek\n",
    "\n",
    "import pandas as pd\n",
    "import matplotlib.pyplot as plt\n",
    "import seaborn as sns\n",
    "from wordcloud import WordCloud\n",
    "import nltk\n",
    "from nltk.sentiment import SentimentIntensityAnalyzer\n",
    "\n",
    "# Pobranie słownika do analizy sentymentu\n",
    "nltk.download('vader_lexicon')\n"
   ]
  },
  {
   "cell_type": "markdown",
   "id": "1aa4905d",
   "metadata": {},
   "source": [
    "##  2. Wczytanie danych z pliku Reviews.csv"
   ]
  },
  {
   "cell_type": "code",
   "execution_count": 5,
   "id": "0a442dd7",
   "metadata": {},
   "outputs": [
    {
     "data": {
      "text/html": [
       "<div>\n",
       "<style scoped>\n",
       "    .dataframe tbody tr th:only-of-type {\n",
       "        vertical-align: middle;\n",
       "    }\n",
       "\n",
       "    .dataframe tbody tr th {\n",
       "        vertical-align: top;\n",
       "    }\n",
       "\n",
       "    .dataframe thead th {\n",
       "        text-align: right;\n",
       "    }\n",
       "</style>\n",
       "<table border=\"1\" class=\"dataframe\">\n",
       "  <thead>\n",
       "    <tr style=\"text-align: right;\">\n",
       "      <th></th>\n",
       "      <th>Id</th>\n",
       "      <th>ProductId</th>\n",
       "      <th>UserId</th>\n",
       "      <th>ProfileName</th>\n",
       "      <th>HelpfulnessNumerator</th>\n",
       "      <th>HelpfulnessDenominator</th>\n",
       "      <th>Score</th>\n",
       "      <th>Time</th>\n",
       "      <th>Summary</th>\n",
       "      <th>Text</th>\n",
       "    </tr>\n",
       "  </thead>\n",
       "  <tbody>\n",
       "    <tr>\n",
       "      <th>0</th>\n",
       "      <td>1</td>\n",
       "      <td>B001E4KFG0</td>\n",
       "      <td>A3SGXH7AUHU8GW</td>\n",
       "      <td>delmartian</td>\n",
       "      <td>1</td>\n",
       "      <td>1</td>\n",
       "      <td>5</td>\n",
       "      <td>1303862400</td>\n",
       "      <td>Good Quality Dog Food</td>\n",
       "      <td>I have bought several of the Vitality canned d...</td>\n",
       "    </tr>\n",
       "    <tr>\n",
       "      <th>1</th>\n",
       "      <td>2</td>\n",
       "      <td>B00813GRG4</td>\n",
       "      <td>A1D87F6ZCVE5NK</td>\n",
       "      <td>dll pa</td>\n",
       "      <td>0</td>\n",
       "      <td>0</td>\n",
       "      <td>1</td>\n",
       "      <td>1346976000</td>\n",
       "      <td>Not as Advertised</td>\n",
       "      <td>Product arrived labeled as Jumbo Salted Peanut...</td>\n",
       "    </tr>\n",
       "    <tr>\n",
       "      <th>2</th>\n",
       "      <td>3</td>\n",
       "      <td>B000LQOCH0</td>\n",
       "      <td>ABXLMWJIXXAIN</td>\n",
       "      <td>Natalia Corres \"Natalia Corres\"</td>\n",
       "      <td>1</td>\n",
       "      <td>1</td>\n",
       "      <td>4</td>\n",
       "      <td>1219017600</td>\n",
       "      <td>\"Delight\" says it all</td>\n",
       "      <td>This is a confection that has been around a fe...</td>\n",
       "    </tr>\n",
       "    <tr>\n",
       "      <th>3</th>\n",
       "      <td>4</td>\n",
       "      <td>B000UA0QIQ</td>\n",
       "      <td>A395BORC6FGVXV</td>\n",
       "      <td>Karl</td>\n",
       "      <td>3</td>\n",
       "      <td>3</td>\n",
       "      <td>2</td>\n",
       "      <td>1307923200</td>\n",
       "      <td>Cough Medicine</td>\n",
       "      <td>If you are looking for the secret ingredient i...</td>\n",
       "    </tr>\n",
       "    <tr>\n",
       "      <th>4</th>\n",
       "      <td>5</td>\n",
       "      <td>B006K2ZZ7K</td>\n",
       "      <td>A1UQRSCLF8GW1T</td>\n",
       "      <td>Michael D. Bigham \"M. Wassir\"</td>\n",
       "      <td>0</td>\n",
       "      <td>0</td>\n",
       "      <td>5</td>\n",
       "      <td>1350777600</td>\n",
       "      <td>Great taffy</td>\n",
       "      <td>Great taffy at a great price.  There was a wid...</td>\n",
       "    </tr>\n",
       "  </tbody>\n",
       "</table>\n",
       "</div>"
      ],
      "text/plain": [
       "   Id   ProductId          UserId                      ProfileName  \\\n",
       "0   1  B001E4KFG0  A3SGXH7AUHU8GW                       delmartian   \n",
       "1   2  B00813GRG4  A1D87F6ZCVE5NK                           dll pa   \n",
       "2   3  B000LQOCH0   ABXLMWJIXXAIN  Natalia Corres \"Natalia Corres\"   \n",
       "3   4  B000UA0QIQ  A395BORC6FGVXV                             Karl   \n",
       "4   5  B006K2ZZ7K  A1UQRSCLF8GW1T    Michael D. Bigham \"M. Wassir\"   \n",
       "\n",
       "   HelpfulnessNumerator  HelpfulnessDenominator  Score        Time  \\\n",
       "0                     1                       1      5  1303862400   \n",
       "1                     0                       0      1  1346976000   \n",
       "2                     1                       1      4  1219017600   \n",
       "3                     3                       3      2  1307923200   \n",
       "4                     0                       0      5  1350777600   \n",
       "\n",
       "                 Summary                                               Text  \n",
       "0  Good Quality Dog Food  I have bought several of the Vitality canned d...  \n",
       "1      Not as Advertised  Product arrived labeled as Jumbo Salted Peanut...  \n",
       "2  \"Delight\" says it all  This is a confection that has been around a fe...  \n",
       "3         Cough Medicine  If you are looking for the secret ingredient i...  \n",
       "4            Great taffy  Great taffy at a great price.  There was a wid...  "
      ]
     },
     "execution_count": 5,
     "metadata": {},
     "output_type": "execute_result"
    }
   ],
   "source": [
    "# Wczytanie danych z pliku CSV do DataFrame\n",
    "df = pd.read_csv(\"Reviews.csv\")\n",
    "\n",
    "# Wyświetlenie pierwszych 5 wierszy, żeby sprawdzić strukturę danych\n",
    "df.head()\n"
   ]
  },
  {
   "cell_type": "markdown",
   "id": "3ed20ea3",
   "metadata": {},
   "source": [
    "## 3. Sprawdzanie brakujących danych"
   ]
  },
  {
   "cell_type": "code",
   "execution_count": 6,
   "id": "2f228442",
   "metadata": {},
   "outputs": [
    {
     "data": {
      "text/plain": [
       "Id                         0\n",
       "ProductId                  0\n",
       "UserId                     0\n",
       "ProfileName               26\n",
       "HelpfulnessNumerator       0\n",
       "HelpfulnessDenominator     0\n",
       "Score                      0\n",
       "Time                       0\n",
       "Summary                   27\n",
       "Text                       0\n",
       "dtype: int64"
      ]
     },
     "execution_count": 6,
     "metadata": {},
     "output_type": "execute_result"
    }
   ],
   "source": [
    "# Sprawdzenie, ile brakuje wartości w każdej kolumnie\n",
    "df.isnull().sum()"
   ]
  },
  {
   "cell_type": "markdown",
   "id": "11a9dc75",
   "metadata": {},
   "source": [
    "## 4. Czyszczenie danych"
   ]
  },
  {
   "cell_type": "code",
   "execution_count": 7,
   "id": "b231ecec",
   "metadata": {},
   "outputs": [
    {
     "data": {
      "text/plain": [
       "Id                        0\n",
       "ProductId                 0\n",
       "UserId                    0\n",
       "ProfileName               0\n",
       "HelpfulnessNumerator      0\n",
       "HelpfulnessDenominator    0\n",
       "Score                     0\n",
       "Time                      0\n",
       "Summary                   0\n",
       "Text                      0\n",
       "dtype: int64"
      ]
     },
     "execution_count": 7,
     "metadata": {},
     "output_type": "execute_result"
    }
   ],
   "source": [
    "# Usuwanie wszystkich wierszy, w których występują braki danych\n",
    "df = df.dropna()\n",
    "\n",
    "# Sprawdzenie ponownie, czy wszystkie braki danych zostały usunięte\n",
    "df.isnull().sum()"
   ]
  },
  {
   "cell_type": "markdown",
   "id": "ec48bb6b",
   "metadata": {},
   "source": [
    "## 5. Przekształcenie ocen (Score) na etykiety sentymentu (Sentiment)"
   ]
  },
  {
   "cell_type": "code",
   "execution_count": 8,
   "id": "3a65a358",
   "metadata": {},
   "outputs": [
    {
     "data": {
      "text/plain": [
       "Sentiment\n",
       "pozytywny    443756\n",
       "negatywny     82007\n",
       "neutralny     42638\n",
       "Name: count, dtype: int64"
      ]
     },
     "execution_count": 8,
     "metadata": {},
     "output_type": "execute_result"
    }
   ],
   "source": [
    "def get_sentiment(score):\n",
    "    if score in [1, 2]:\n",
    "        return 'negatywny'\n",
    "    elif score == 3:\n",
    "        return 'neutralny'\n",
    "    else:\n",
    "        return 'pozytywny'\n",
    "\n",
    "# Utworzenie nowej kolumny z kategorią sentymentu\n",
    "df['Sentiment'] = df['Score'].apply(get_sentiment)\n",
    "\n",
    "# Sprawdzenie liczby przykładów w każdej kategorii\n",
    "df['Sentiment'].value_counts()"
   ]
  },
  {
   "cell_type": "markdown",
   "id": "91292a08",
   "metadata": {},
   "source": [
    "## 6. Analiza sentymentu tekstu za pomocą VADER (NLTK)"
   ]
  },
  {
   "cell_type": "code",
   "execution_count": 9,
   "id": "fc361c28",
   "metadata": {},
   "outputs": [
    {
     "name": "stdout",
     "output_type": "stream",
     "text": [
      "I have bought several of the Vitality canned dog food products and have found them all to be of good quality. The product looks more like a stew than a processed meat and it smells better. My Labrador is finicky and she appreciates this product better than  most.\n",
      "{'neg': 0.0, 'neu': 0.695, 'pos': 0.305, 'compound': 0.9441}\n"
     ]
    }
   ],
   "source": [
    "# Utworzenie obiektu analizatora sentymentu\n",
    "sia = SentimentIntensityAnalyzer()\n",
    "\n",
    "# Przykład: analiza jednego tekstu\n",
    "print(df['Text'].iloc[0])\n",
    "print(sia.polarity_scores(df['Text'].iloc[0]))"
   ]
  },
  {
   "cell_type": "markdown",
   "id": "25f5024c",
   "metadata": {},
   "source": [
    "## 7. Przetworzenie wszystkich tekstów — klasyfikacja sentymentu z VADER"
   ]
  },
  {
   "cell_type": "code",
   "execution_count": 10,
   "id": "89f723c4",
   "metadata": {},
   "outputs": [
    {
     "data": {
      "text/html": [
       "<div>\n",
       "<style scoped>\n",
       "    .dataframe tbody tr th:only-of-type {\n",
       "        vertical-align: middle;\n",
       "    }\n",
       "\n",
       "    .dataframe tbody tr th {\n",
       "        vertical-align: top;\n",
       "    }\n",
       "\n",
       "    .dataframe thead th {\n",
       "        text-align: right;\n",
       "    }\n",
       "</style>\n",
       "<table border=\"1\" class=\"dataframe\">\n",
       "  <thead>\n",
       "    <tr style=\"text-align: right;\">\n",
       "      <th></th>\n",
       "      <th>Text</th>\n",
       "      <th>Sentiment</th>\n",
       "      <th>Predicted_Sentiment</th>\n",
       "    </tr>\n",
       "  </thead>\n",
       "  <tbody>\n",
       "    <tr>\n",
       "      <th>0</th>\n",
       "      <td>I have bought several of the Vitality canned d...</td>\n",
       "      <td>pozytywny</td>\n",
       "      <td>pozytywny</td>\n",
       "    </tr>\n",
       "    <tr>\n",
       "      <th>1</th>\n",
       "      <td>Product arrived labeled as Jumbo Salted Peanut...</td>\n",
       "      <td>negatywny</td>\n",
       "      <td>negatywny</td>\n",
       "    </tr>\n",
       "    <tr>\n",
       "      <th>2</th>\n",
       "      <td>This is a confection that has been around a fe...</td>\n",
       "      <td>pozytywny</td>\n",
       "      <td>pozytywny</td>\n",
       "    </tr>\n",
       "    <tr>\n",
       "      <th>3</th>\n",
       "      <td>If you are looking for the secret ingredient i...</td>\n",
       "      <td>negatywny</td>\n",
       "      <td>neutralny</td>\n",
       "    </tr>\n",
       "    <tr>\n",
       "      <th>4</th>\n",
       "      <td>Great taffy at a great price.  There was a wid...</td>\n",
       "      <td>pozytywny</td>\n",
       "      <td>pozytywny</td>\n",
       "    </tr>\n",
       "  </tbody>\n",
       "</table>\n",
       "</div>"
      ],
      "text/plain": [
       "                                                Text  Sentiment  \\\n",
       "0  I have bought several of the Vitality canned d...  pozytywny   \n",
       "1  Product arrived labeled as Jumbo Salted Peanut...  negatywny   \n",
       "2  This is a confection that has been around a fe...  pozytywny   \n",
       "3  If you are looking for the secret ingredient i...  negatywny   \n",
       "4  Great taffy at a great price.  There was a wid...  pozytywny   \n",
       "\n",
       "  Predicted_Sentiment  \n",
       "0           pozytywny  \n",
       "1           negatywny  \n",
       "2           pozytywny  \n",
       "3           neutralny  \n",
       "4           pozytywny  "
      ]
     },
     "execution_count": 10,
     "metadata": {},
     "output_type": "execute_result"
    }
   ],
   "source": [
    "# Funkcja do przypisania etykiety na podstawie wartości compound\n",
    "def vader_sentiment(text):\n",
    "    score = sia.polarity_scores(text)['compound']\n",
    "    if score >= 0.05:\n",
    "        return 'pozytywny'\n",
    "    elif score <= -0.05:\n",
    "        return 'negatywny'\n",
    "    else:\n",
    "        return 'neutralny'\n",
    "\n",
    "# Zastosowanie funkcji do całej kolumny Text\n",
    "df['Predicted_Sentiment'] = df['Text'].apply(vader_sentiment)\n",
    "\n",
    "# Podgląd wyników\n",
    "df[['Text', 'Sentiment', 'Predicted_Sentiment']].head()"
   ]
  },
  {
   "cell_type": "markdown",
   "id": "bd481d44",
   "metadata": {},
   "source": [
    "## 8. Ewaluacja skuteczności predykcji – porównanie etykiet"
   ]
  },
  {
   "cell_type": "code",
   "execution_count": 11,
   "id": "ef295593",
   "metadata": {},
   "outputs": [
    {
     "name": "stdout",
     "output_type": "stream",
     "text": [
      "[[ 32912   4092  45003]\n",
      " [  7628   1579  33431]\n",
      " [ 18767   6481 418508]]\n",
      "\n",
      "Raport klasyfikacji:\n",
      "\n",
      "              precision    recall  f1-score   support\n",
      "\n",
      "   negatywny       0.55      0.40      0.47     82007\n",
      "   neutralny       0.13      0.04      0.06     42638\n",
      "   pozytywny       0.84      0.94      0.89    443756\n",
      "\n",
      "    accuracy                           0.80    568401\n",
      "   macro avg       0.51      0.46      0.47    568401\n",
      "weighted avg       0.75      0.80      0.77    568401\n",
      "\n"
     ]
    }
   ],
   "source": [
    "from sklearn.metrics import classification_report, confusion_matrix\n",
    "\n",
    "# Porównanie etykiet: Score vs VADER\n",
    "print(confusion_matrix(df['Sentiment'], df['Predicted_Sentiment']))\n",
    "print(\"\\nRaport klasyfikacji:\\n\")\n",
    "print(classification_report(df['Sentiment'], df['Predicted_Sentiment']))\n"
   ]
  },
  {
   "cell_type": "markdown",
   "id": "8fb0ed0c",
   "metadata": {},
   "source": [
    "## 9. Wizualizacja macierzy pomyłek"
   ]
  },
  {
   "cell_type": "code",
   "execution_count": 12,
   "id": "fe859901",
   "metadata": {},
   "outputs": [
    {
     "data": {
      "image/png": "[encoded data removed]",
      "text/plain": [
       "<Figure size 800x600 with 2 Axes>"
      ]
     },
     "metadata": {},
     "output_type": "display_data"
    }
   ],
   "source": [
    "import seaborn as sns\n",
    "import matplotlib.pyplot as plt\n",
    "from sklearn.metrics import confusion_matrix\n",
    "\n",
    "# Obliczenie macierzy pomyłek\n",
    "cm = confusion_matrix(df['Sentiment'], df['Predicted_Sentiment'])\n",
    "\n",
    "# Definicja etykiet klas\n",
    "labels = ['negatywny', 'neutralny', 'pozytywny']\n",
    "\n",
    "# Tworzenie wykresu\n",
    "plt.figure(figsize=(8,6))\n",
    "sns.heatmap(cm, annot=True, fmt='d', cmap='Blues', xticklabels=labels, yticklabels=labels)\n",
    "\n",
    "# Opisy osi\n",
    "plt.xlabel('Predykcja')\n",
    "plt.ylabel('Rzeczywisty sentiment')\n",
    "plt.title('Macierz pomyłek: Score vs VADER')\n",
    "\n",
    "# Wyświetlenie\n",
    "plt.show()\n"
   ]
  },
  {
   "cell_type": "markdown",
   "id": "56fd7b8a",
   "metadata": {},
   "source": [
    "## 9. Dokładność klasyfikatora"
   ]
  },
  {
   "cell_type": "code",
   "execution_count": 13,
   "id": "4b0b07d8",
   "metadata": {},
   "outputs": [
    {
     "name": "stdout",
     "output_type": "stream",
     "text": [
      "Dokładność klasyfikatora VADER: 0.7970\n"
     ]
    }
   ],
   "source": [
    "# Obliczenie dokładności klasyfikatora\n",
    "from sklearn.metrics import accuracy_score\n",
    "\n",
    "accuracy = accuracy_score(df['Sentiment'], df['Predicted_Sentiment'])\n",
    "print(f'Dokładność klasyfikatora VADER: {accuracy:.4f}')"
   ]
  },
  {
   "cell_type": "markdown",
   "id": "44d5c4c2",
   "metadata": {},
   "source": [
    "## 10. Podsumowanie końcowe projektu"
   ]
  },
  {
   "cell_type": "code",
   "execution_count": null,
   "id": "5ada3be4",
   "metadata": {},
   "outputs": [],
   "source": [
    "# Podsumowanie projektu analizy sentymentu\n",
    "print(\"✅ Projekt został zakończony pomyślnie. Wykonano następujące kroki:\")\n",
    "print(\"1. Wczytanie danych i oczyszczenie ich z brakujących wartości.\")\n",
    "print(\"2. Eksploracja danych i sprawdzenie rozkładu klas.\")\n",
    "print(\"3. Analiza sentymentu tekstów za pomocą VADER (NLTK).\")\n",
    "print(\"4. Klasyfikacja sentymentów jako: pozytywny, neutralny lub negatywny.\")\n",
    "print(\"5. Porównanie etykiet VADER z etykietami rzeczywistymi (Score).\")\n",
    "print(\"6. Wyświetlenie macierzy pomyłek oraz metryk klasyfikacyjnych.\")\n",
    "print(f\"7. Uzyskana dokładność klasyfikatora VADER: {accuracy:.2%}\")\n"
   ]
  }
 ],
 "metadata": {
  "kernelspec": {
   "display_name": "Python 3",
   "language": "python",
   "name": "python3"
  },
  "language_info": {
   "codemirror_mode": {
    "name": "ipython",
    "version": 3
   },
   "file_extension": ".py",
   "mimetype": "text/x-python",
   "name": "python",
   "nbconvert_exporter": "python",
   "pygments_lexer": "ipython3",
   "version": "3.10.11"
  }
 },
 "nbformat": 4,
 "nbformat_minor": 5
}
